{
 "cells": [
  {
   "cell_type": "code",
   "execution_count": 17,
   "id": "d75cfb1e",
   "metadata": {},
   "outputs": [],
   "source": [
    "import os\n",
    "import shutil\n",
    "import random\n",
    "from tqdm import tqdm"
   ]
  },
  {
   "cell_type": "code",
   "execution_count": null,
   "id": "5373f8cc",
   "metadata": {},
   "outputs": [],
   "source": [
    "Dataset_root = '../../datasets/segmentation'"
   ]
  },
  {
   "cell_type": "code",
   "execution_count": null,
   "id": "cc81b736",
   "metadata": {},
   "outputs": [],
   "source": [
    "segmentation_path = os.path.join(Dataset_root, 'images')"
   ]
  },
  {
   "cell_type": "code",
   "execution_count": null,
   "id": "bcd54ddf",
   "metadata": {},
   "outputs": [
    {
     "data": {
      "text/plain": [
       "['augmentation.py.txt',\n",
       " 'datasets.py.txt',\n",
       " 'Data_set.ipynb',\n",
       " 'feature.ipynb',\n",
       " 'kuozeng.py',\n",
       " 'prepocess.py.txt',\n",
       " 'segmentation.py',\n",
       " '将json转为yolo.ipynb',\n",
       " '数据集处理.ipynb']"
      ]
     },
     "execution_count": 20,
     "metadata": {},
     "output_type": "execute_result"
    }
   ],
   "source": [
    "os.listdir()"
   ]
  },
  {
   "cell_type": "code",
   "execution_count": null,
   "id": "95a0e1c3",
   "metadata": {},
   "outputs": [],
   "source": [
    "val_frac = 0.3  # 测试集比例\n",
    "random.seed(123) # 随机数种子，便于复现"
   ]
  },
  {
   "cell_type": "code",
   "execution_count": null,
   "id": "dbf5083d",
   "metadata": {},
   "outputs": [],
   "source": [
    "folder = '.'"
   ]
  },
  {
   "cell_type": "code",
   "execution_count": null,
   "id": "50f278f2",
   "metadata": {},
   "outputs": [],
   "source": [
    "img_paths = os.listdir(folder)\n",
    "random.shuffle(img_paths) # 随机打乱\n",
    "\n",
    "val_number = int(len(img_paths) * val_frac) # 测试集文件个数\n",
    "train_files = img_paths[val_number:]         # 训练集文件名列表\n",
    "val_files = img_paths[:val_number]           # 测试集文件名列表\n",
    "\n",
    "print('数据集文件总数', len(img_paths))\n",
    "print('训练集文件个数', len(train_files))\n",
    "print('测试集文件个数', len(val_files))"
   ]
  },
  {
   "cell_type": "code",
   "execution_count": null,
   "id": "5eace40c",
   "metadata": {},
   "outputs": [],
   "source": [
    "os.mkdir('train')\n",
    "for each in tqdm(train_files):\n",
    "    shutil.move(each, 'train')"
   ]
  },
  {
   "cell_type": "code",
   "execution_count": null,
   "id": "cae42914",
   "metadata": {},
   "outputs": [],
   "source": [
    "os.mkdir('val')\n",
    "for each in tqdm(val_files):\n",
    "    shutil.move(each, 'val')"
   ]
  },
  {
   "cell_type": "code",
   "execution_count": null,
   "id": "3fd5b228",
   "metadata": {},
   "outputs": [],
   "source": [
    "import os\n",
    "print(os.getcwd())  # 打印当前工作目录"
   ]
  },
  {
   "cell_type": "code",
   "execution_count": null,
   "id": "f187111c",
   "metadata": {},
   "outputs": [],
   "source": [
    "os.chdir('../json')"
   ]
  },
  {
   "cell_type": "code",
   "execution_count": null,
   "id": "9f82d9fe",
   "metadata": {},
   "outputs": [],
   "source": [
    "if not os.path.exists('train'):\n",
    "    os.mkdir('train')\n",
    "\n",
    "for each in tqdm(train_files):\n",
    "    srt_path = each.split('.')[0] + '.json'\n",
    "    if not os.path.exists(srt_path):\n",
    "        print(f\"跳过不存在的文件: {srt_path}\") \n",
    "        continue\n",
    "    try:\n",
    "        shutil.move(srt_path, 'train')\n",
    "    except Exception as e:\n",
    "        print(f\"移动文件 {srt_path} 时出错: {str(e)}\")"
   ]
  },
  {
   "cell_type": "code",
   "execution_count": null,
   "id": "6b11b8ab",
   "metadata": {},
   "outputs": [],
   "source": [
    "if not os.path.exists('val'):\n",
    "    os.mkdir('val')\n",
    "\n",
    "for each in tqdm(val_files):\n",
    "    srt_path = each.split('.')[0] + '.json'\n",
    "    if not os.path.exists(srt_path):\n",
    "        print(f\"跳过不存在的文件: {srt_path}\") \n",
    "        continue\n",
    "    try:\n",
    "        shutil.move(srt_path, 'val')\n",
    "    except Exception as e:\n",
    "        print(f\"移动文件 {srt_path} 时出错: {str(e)}\")"
   ]
  },
  {
   "cell_type": "code",
   "execution_count": null,
   "id": "2bbaea04",
   "metadata": {},
   "outputs": [],
   "source": [
    "os.chdir('../../')"
   ]
  },
  {
   "cell_type": "code",
   "execution_count": null,
   "id": "1ac9428b",
   "metadata": {},
   "outputs": [],
   "source": [
    "!find . -iname '__MACOSX'"
   ]
  },
  {
   "cell_type": "code",
   "execution_count": null,
   "id": "99897d53",
   "metadata": {},
   "outputs": [],
   "source": [
    "!find . -iname '.DS_Store'"
   ]
  },
  {
   "cell_type": "code",
   "execution_count": null,
   "id": "0b3cf6f5",
   "metadata": {},
   "outputs": [],
   "source": [
    "!find . -iname '.ipynb_checkpoints'"
   ]
  },
  {
   "cell_type": "code",
   "execution_count": null,
   "id": "a0a90eab",
   "metadata": {},
   "outputs": [],
   "source": [
    "!for i in `find . -iname '__MACOSX'`; do rm -rf $i;done"
   ]
  },
  {
   "cell_type": "code",
   "execution_count": null,
   "id": "44ee3ab4",
   "metadata": {},
   "outputs": [],
   "source": [
    "!for i in `find . -iname '.DS_Store'`; do rm -rf $i;done"
   ]
  },
  {
   "cell_type": "code",
   "execution_count": null,
   "id": "c75bee9b",
   "metadata": {},
   "outputs": [],
   "source": [
    "!for i in `find . -iname '.ipynb_checkpoints'`; do rm -rf $i;done"
   ]
  },
  {
   "cell_type": "code",
   "execution_count": null,
   "id": "7ba8e3bc",
   "metadata": {},
   "outputs": [],
   "source": [
    "!find . -iname '__MACOSX'"
   ]
  },
  {
   "cell_type": "code",
   "execution_count": null,
   "id": "d198a304",
   "metadata": {},
   "outputs": [],
   "source": [
    "!find . -iname '.DS_Store'"
   ]
  },
  {
   "cell_type": "code",
   "execution_count": null,
   "id": "7eb8607a",
   "metadata": {},
   "outputs": [],
   "source": [
    "!find . -iname '.ipynb_checkpoints'"
   ]
  }
 ],
 "metadata": {
  "kernelspec": {
   "display_name": "base",
   "language": "python",
   "name": "python3"
  },
  "language_info": {
   "codemirror_mode": {
    "name": "ipython",
    "version": 3
   },
   "file_extension": ".py",
   "mimetype": "text/x-python",
   "name": "python",
   "nbconvert_exporter": "python",
   "pygments_lexer": "ipython3",
   "version": "3.13.2"
  }
 },
 "nbformat": 4,
 "nbformat_minor": 5
}
